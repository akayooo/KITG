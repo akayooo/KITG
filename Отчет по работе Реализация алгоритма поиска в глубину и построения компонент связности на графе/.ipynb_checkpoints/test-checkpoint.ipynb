{
 "cells": [
  {
   "cell_type": "code",
   "execution_count": 1,
   "id": "e660fda0-fc4c-49af-b67d-0258287e9ecd",
   "metadata": {},
   "outputs": [],
   "source": [
    "def dfs(graph, node, visited):\n",
    "    if node not in visited:\n",
    "        visited.add(node)\n",
    "        for neighbor in graph[node]:\n",
    "            dfs(graph, neighbor, visited)\n",
    "\n",
    "def find_connected_components(graph):\n",
    "    visited = set()\n",
    "    components = []\n",
    "    for node in graph:\n",
    "        if node not in visited:\n",
    "            component = set()\n",
    "            dfs(graph, node, component)\n",
    "            visited.update(component)\n",
    "            components.append(component)\n",
    "    return components"
   ]
  },
  {
   "cell_type": "code",
   "execution_count": 2,
   "id": "8c7bfc11-8800-479f-b3bb-7cd9c92e0e61",
   "metadata": {},
   "outputs": [
    {
     "name": "stdout",
     "output_type": "stream",
     "text": [
      "Компоненты связности: [{'B', 'D', 'A', 'C', 'E', 'F'}]\n"
     ]
    }
   ],
   "source": [
    "graph = {\n",
    "    'A': ['B', 'C'],\n",
    "    'B': ['A', 'D', 'E'],\n",
    "    'C': ['A', 'F'],\n",
    "    'D': ['B'],\n",
    "    'E': ['B', 'F'],\n",
    "    'F': ['C', 'E']\n",
    "}\n",
    "\n",
    "components = find_connected_components(graph)\n",
    "print(\"Компоненты связности:\", components)"
   ]
  },
  {
   "cell_type": "raw",
   "id": "841daa4e-a854-41f1-a410-aa4c87bd5e5c",
   "metadata": {},
   "source": [
    "1. Ручное тестирование"
   ]
  },
  {
   "cell_type": "code",
   "execution_count": 3,
   "id": "83183e13-0b75-4bb1-996c-a1bb4048cb75",
   "metadata": {},
   "outputs": [
    {
     "name": "stdout",
     "output_type": "stream",
     "text": [
      "Компоненты связности 1: [{'B', 'A'}, {'C', 'D'}]\n",
      "Компоненты связности 2: [{'B', 'C', 'A'}, {'D', 'E'}]\n"
     ]
    }
   ],
   "source": [
    "graph1 = {\n",
    "    'A': ['B'],\n",
    "    'B': ['A'],\n",
    "    'C': ['D'],\n",
    "    'D': ['C']\n",
    "}\n",
    "\n",
    "components1 = find_connected_components(graph1)\n",
    "print(\"Компоненты связности 1:\", components1)\n",
    "\n",
    "graph2 = {\n",
    "    'A': ['B', 'C'],\n",
    "    'B': ['A', 'C'],\n",
    "    'C': ['A', 'B'],\n",
    "    'D': ['E'],\n",
    "    'E': ['D']\n",
    "}\n",
    "\n",
    "components2 = find_connected_components(graph2)\n",
    "print(\"Компоненты связности 2:\", components2)"
   ]
  },
  {
   "cell_type": "raw",
   "id": "90e2a07b-a66b-46bd-9b7c-014f4156cba3",
   "metadata": {},
   "source": [
    "2. Профилирование производительности"
   ]
  },
  {
   "cell_type": "code",
   "execution_count": 5,
   "id": "b243a2c2-ecc9-426b-87cf-d5f6eab556ef",
   "metadata": {},
   "outputs": [
    {
     "name": "stdout",
     "output_type": "stream",
     "text": [
      "         25 function calls (13 primitive calls) in 0.000 seconds\n",
      "\n",
      "   Ordered by: standard name\n",
      "\n",
      "   ncalls  tottime  percall  cumtime  percall filename:lineno(function)\n",
      "     13/1    0.000    0.000    0.000    0.000 3986731889.py:1(dfs)\n",
      "        1    0.000    0.000    0.000    0.000 3986731889.py:7(find_connected_components)\n",
      "        1    0.000    0.000    0.000    0.000 <string>:1(<module>)\n",
      "        1    0.000    0.000    0.000    0.000 {built-in method builtins.exec}\n",
      "        6    0.000    0.000    0.000    0.000 {method 'add' of 'set' objects}\n",
      "        1    0.000    0.000    0.000    0.000 {method 'append' of 'list' objects}\n",
      "        1    0.000    0.000    0.000    0.000 {method 'disable' of '_lsprof.Profiler' objects}\n",
      "        1    0.000    0.000    0.000    0.000 {method 'update' of 'set' objects}\n",
      "\n",
      "\n"
     ]
    }
   ],
   "source": [
    "import cProfile\n",
    "\n",
    "graph = {\n",
    "    'A': ['B', 'C'],\n",
    "    'B': ['A', 'D', 'E'],\n",
    "    'C': ['A', 'F'],\n",
    "    'D': ['B'],\n",
    "    'E': ['B', 'F'],\n",
    "    'F': ['C', 'E']\n",
    "}\n",
    "\n",
    "cProfile.run('find_connected_components(graph)')"
   ]
  }
 ],
 "metadata": {
  "kernelspec": {
   "display_name": "Python 3 (ipykernel)",
   "language": "python",
   "name": "python3"
  },
  "language_info": {
   "codemirror_mode": {
    "name": "ipython",
    "version": 3
   },
   "file_extension": ".py",
   "mimetype": "text/x-python",
   "name": "python",
   "nbconvert_exporter": "python",
   "pygments_lexer": "ipython3",
   "version": "3.12.5"
  }
 },
 "nbformat": 4,
 "nbformat_minor": 5
}
