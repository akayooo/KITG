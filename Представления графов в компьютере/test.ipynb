{
 "cells": [
  {
   "cell_type": "raw",
   "id": "d2ffaf33-d739-484c-8c71-6b1ba7d7301e",
   "metadata": {},
   "source": [
    "Реализация списка смежности"
   ]
  },
  {
   "cell_type": "code",
   "execution_count": 6,
   "id": "c38643a0-fdb4-4c0c-b9dd-39e50a017d9c",
   "metadata": {},
   "outputs": [
    {
     "name": "stdout",
     "output_type": "stream",
     "text": [
      "A -> ['B', 'C']\n",
      "B -> ['A', 'C']\n",
      "C -> ['B', 'A']\n"
     ]
    }
   ],
   "source": [
    "class AdjacencyListGraph:\n",
    "    def __init__(self):\n",
    "        self.adj_list = {}\n",
    "\n",
    "    def add_edge(self, u, v):\n",
    "        if u not in self.adj_list:\n",
    "            self.adj_list[u] = []\n",
    "        if v not in self.adj_list:\n",
    "            self.adj_list[v] = []\n",
    "        self.adj_list[u].append(v)\n",
    "        self.adj_list[v].append(u)\n",
    "\n",
    "    def print_graph(self):\n",
    "        for vertex in self.adj_list:\n",
    "            print(vertex, \"->\", self.adj_list[vertex])\n",
    "\n",
    "# Пример использования\n",
    "g = AdjacencyListGraph()\n",
    "g.add_edge('A', 'B')\n",
    "g.add_edge('B', 'C')\n",
    "g.add_edge('C', 'A')\n",
    "g.print_graph()"
   ]
  },
  {
   "cell_type": "raw",
   "id": "a9f7aec8-9a37-456a-805e-906beda7e4c3",
   "metadata": {},
   "source": [
    "Реализация матрицы смежности"
   ]
  },
  {
   "cell_type": "code",
   "execution_count": 7,
   "id": "fced05dc-3fea-49d2-8753-41515c33d626",
   "metadata": {},
   "outputs": [
    {
     "name": "stdout",
     "output_type": "stream",
     "text": [
      "[0, 1, 1]\n",
      "[1, 0, 1]\n",
      "[1, 1, 0]\n"
     ]
    }
   ],
   "source": [
    "class AdjacencyMatrixGraph:\n",
    "    def __init__(self, num_vertices):\n",
    "        self.num_vertices = num_vertices\n",
    "        self.adj_matrix = [[0] * num_vertices for _ in range(num_vertices)]\n",
    "\n",
    "    def add_edge(self, u, v):\n",
    "        self.adj_matrix[u][v] = 1\n",
    "        self.adj_matrix[v][u] = 1\n",
    "\n",
    "    def print_graph(self):\n",
    "        for row in self.adj_matrix:\n",
    "            print(row)\n",
    "\n",
    "# Пример использования\n",
    "g = AdjacencyMatrixGraph(3)\n",
    "g.add_edge(0, 1)\n",
    "g.add_edge(1, 2)\n",
    "g.add_edge(2, 0)\n",
    "g.print_graph()"
   ]
  },
  {
   "cell_type": "raw",
   "id": "8bf3af18-bd4f-4f52-806b-8f37f2298174",
   "metadata": {},
   "source": [
    "Реализация списка ребер"
   ]
  },
  {
   "cell_type": "code",
   "execution_count": 8,
   "id": "c135a8dd-782e-4472-8d9e-1b216e0b6342",
   "metadata": {},
   "outputs": [
    {
     "name": "stdout",
     "output_type": "stream",
     "text": [
      "('A', 'B')\n",
      "('B', 'C')\n",
      "('C', 'A')\n"
     ]
    }
   ],
   "source": [
    "class EdgeListGraph:\n",
    "    def __init__(self):\n",
    "        self.edges = []\n",
    "\n",
    "    def add_edge(self, u, v):\n",
    "        self.edges.append((u, v))\n",
    "\n",
    "    def print_graph(self):\n",
    "        for edge in self.edges:\n",
    "            print(edge)\n",
    "\n",
    "# Пример использования\n",
    "g = EdgeListGraph()\n",
    "g.add_edge('A', 'B')\n",
    "g.add_edge('B', 'C')\n",
    "g.add_edge('C', 'A')\n",
    "g.print_graph()"
   ]
  },
  {
   "cell_type": "raw",
   "id": "a58e965e-1e0e-404b-a63f-d79506542504",
   "metadata": {},
   "source": [
    "Реализация матрицы инцидентности"
   ]
  },
  {
   "cell_type": "code",
   "execution_count": 9,
   "id": "de92cfc5-669d-4333-9c19-e0af0d46dd89",
   "metadata": {},
   "outputs": [
    {
     "name": "stdout",
     "output_type": "stream",
     "text": [
      "[1, 0, 1]\n",
      "[1, 1, 0]\n",
      "[0, 1, 1]\n"
     ]
    }
   ],
   "source": [
    "class IncidenceMatrixGraph:\n",
    "    def __init__(self, num_vertices, num_edges):\n",
    "        self.num_vertices = num_vertices\n",
    "        self.num_edges = num_edges\n",
    "        self.inc_matrix = [[0] * num_edges for _ in range(num_vertices)]\n",
    "\n",
    "    def add_edge(self, u, v, edge_index):\n",
    "        self.inc_matrix[u][edge_index] = 1\n",
    "        self.inc_matrix[v][edge_index] = 1\n",
    "\n",
    "    def print_graph(self):\n",
    "        for row in self.inc_matrix:\n",
    "            print(row)\n",
    "\n",
    "# Пример использования\n",
    "g = IncidenceMatrixGraph(3, 3)\n",
    "g.add_edge(0, 1, 0)\n",
    "g.add_edge(1, 2, 1)\n",
    "g.add_edge(2, 0, 2)\n",
    "g.print_graph()"
   ]
  },
  {
   "cell_type": "raw",
   "id": "45ae504f-4033-4719-9b28-728a3f75bc18",
   "metadata": {},
   "source": [
    "1. Ручное тестирование"
   ]
  },
  {
   "cell_type": "code",
   "execution_count": 11,
   "id": "8195c40c-bd47-4ee8-b133-62a682caebf4",
   "metadata": {},
   "outputs": [
    {
     "name": "stdout",
     "output_type": "stream",
     "text": [
      "A -> ['B', 'C']\n",
      "B -> ['A', 'C']\n",
      "C -> ['B', 'A']\n",
      "----------\n",
      "[0, 1, 1]\n",
      "[1, 0, 1]\n",
      "[1, 1, 0]\n",
      "----------\n",
      "('A', 'B')\n",
      "('B', 'C')\n",
      "('C', 'A')\n",
      "----------\n",
      "[1, 0, 1]\n",
      "[1, 1, 0]\n",
      "[0, 1, 1]\n"
     ]
    }
   ],
   "source": [
    "g1 = AdjacencyListGraph()\n",
    "g1.add_edge('A', 'B')\n",
    "g1.add_edge('B', 'C')\n",
    "g1.add_edge('C', 'A')\n",
    "g1.print_graph()\n",
    "\n",
    "print('-'*10)\n",
    "g2 = AdjacencyMatrixGraph(3)\n",
    "g2.add_edge(0, 1)\n",
    "g2.add_edge(1, 2)\n",
    "g2.add_edge(2, 0)\n",
    "g2.print_graph()\n",
    "\n",
    "print('-'*10)\n",
    "g3 = EdgeListGraph()\n",
    "g3.add_edge('A', 'B')\n",
    "g3.add_edge('B', 'C')\n",
    "g3.add_edge('C', 'A')\n",
    "g3.print_graph()\n",
    "\n",
    "print('-'*10)\n",
    "g4 = IncidenceMatrixGraph(3, 3)\n",
    "g4.add_edge(0, 1, 0)\n",
    "g4.add_edge(1, 2, 1)\n",
    "g4.add_edge(2, 0, 2)\n",
    "g4.print_graph()"
   ]
  },
  {
   "cell_type": "raw",
   "id": "53316a38-e5a9-4c07-9b21-9aac9707c10d",
   "metadata": {},
   "source": [
    "2. Профилирование производительности"
   ]
  },
  {
   "cell_type": "code",
   "execution_count": 13,
   "id": "ddbc1f05-0c68-4e19-b6ed-8de4d8b56861",
   "metadata": {},
   "outputs": [
    {
     "name": "stdout",
     "output_type": "stream",
     "text": [
      "A -> ['B', 'C']\n",
      "B -> ['A', 'C']\n",
      "C -> ['B', 'A']\n",
      "         214 function calls in 0.001 seconds\n",
      "\n",
      "   Ordered by: standard name\n",
      "\n",
      "   ncalls  tottime  percall  cumtime  percall filename:lineno(function)\n",
      "        1    0.000    0.000    0.000    0.000 1851545710.py:13(print_graph)\n",
      "        1    0.000    0.000    0.000    0.000 <string>:1(<module>)\n",
      "        1    0.000    0.000    0.000    0.000 iostream.py:138(_event_pipe)\n",
      "        1    0.000    0.000    0.000    0.000 iostream.py:259(schedule)\n",
      "       18    0.000    0.000    0.000    0.000 iostream.py:505(parent_header)\n",
      "       18    0.000    0.000    0.000    0.000 iostream.py:550(_is_master_process)\n",
      "       18    0.000    0.000    0.000    0.000 iostream.py:577(_schedule_flush)\n",
      "       18    0.000    0.000    0.000    0.000 iostream.py:655(write)\n",
      "        1    0.000    0.000    0.000    0.000 socket.py:626(send)\n",
      "        1    0.000    0.000    0.000    0.000 threading.py:1155(_wait_for_tstate_lock)\n",
      "        1    0.000    0.000    0.000    0.000 threading.py:1222(is_alive)\n",
      "        1    0.000    0.000    0.000    0.000 threading.py:601(is_set)\n",
      "        1    0.000    0.000    0.000    0.000 tz.py:74(utcoffset)\n",
      "        1    0.000    0.000    0.000    0.000 {built-in method builtins.exec}\n",
      "       18    0.000    0.000    0.000    0.000 {built-in method builtins.isinstance}\n",
      "       18    0.000    0.000    0.000    0.000 {built-in method builtins.len}\n",
      "        3    0.000    0.000    0.000    0.000 {built-in method builtins.print}\n",
      "       18    0.000    0.000    0.000    0.000 {built-in method posix.getpid}\n",
      "       18    0.000    0.000    0.000    0.000 {method '__exit__' of '_thread.RLock' objects}\n",
      "        1    0.000    0.000    0.000    0.000 {method 'acquire' of '_thread.lock' objects}\n",
      "        1    0.000    0.000    0.000    0.000 {method 'append' of 'collections.deque' objects}\n",
      "        1    0.000    0.000    0.000    0.000 {method 'disable' of '_lsprof.Profiler' objects}\n",
      "       18    0.000    0.000    0.000    0.000 {method 'get' of '_contextvars.ContextVar' objects}\n",
      "       18    0.000    0.000    0.000    0.000 {method 'items' of 'dict' objects}\n",
      "       18    0.000    0.000    0.000    0.000 {method 'write' of '_io.StringIO' objects}\n",
      "\n",
      "\n"
     ]
    }
   ],
   "source": [
    "import cProfile\n",
    "\n",
    "g = AdjacencyListGraph()\n",
    "g.add_edge('A', 'B')\n",
    "g.add_edge('B', 'C')\n",
    "g.add_edge('C', 'A')\n",
    "\n",
    "cProfile.run('g.print_graph()')"
   ]
  }
 ],
 "metadata": {
  "kernelspec": {
   "display_name": "Python 3 (ipykernel)",
   "language": "python",
   "name": "python3"
  },
  "language_info": {
   "codemirror_mode": {
    "name": "ipython",
    "version": 3
   },
   "file_extension": ".py",
   "mimetype": "text/x-python",
   "name": "python",
   "nbconvert_exporter": "python",
   "pygments_lexer": "ipython3",
   "version": "3.12.5"
  }
 },
 "nbformat": 4,
 "nbformat_minor": 5
}
